{
 "cells": [
  {
   "cell_type": "code",
   "execution_count": 94,
   "id": "ef86869b",
   "metadata": {},
   "outputs": [],
   "source": [
    "import tensorflow as tf\n",
    "import os"
   ]
  },
  {
   "cell_type": "code",
   "execution_count": 22,
   "id": "b0f31f4e",
   "metadata": {},
   "outputs": [],
   "source": [
    "daily_sales_numbers = [21,22, -108, 31, -1, 32, 34, 31,90]"
   ]
  },
  {
   "cell_type": "code",
   "execution_count": 23,
   "id": "98ab3927",
   "metadata": {},
   "outputs": [
    {
     "data": {
      "text/plain": [
       "<_TensorSliceDataset element_spec=TensorSpec(shape=(), dtype=tf.int32, name=None)>"
      ]
     },
     "execution_count": 23,
     "metadata": {},
     "output_type": "execute_result"
    }
   ],
   "source": [
    "tf_dataset=tf.data.Dataset.from_tensor_slices(daily_sales_numbers)\n",
    "tf_dataset"
   ]
  },
  {
   "cell_type": "code",
   "execution_count": 26,
   "id": "70228903",
   "metadata": {},
   "outputs": [
    {
     "name": "stdout",
     "output_type": "stream",
     "text": [
      "21\n",
      "22\n",
      "-108\n",
      "31\n",
      "-1\n",
      "32\n",
      "34\n",
      "31\n",
      "90\n"
     ]
    }
   ],
   "source": [
    "for sales in tf_dataset:\n",
    "    print(sales.numpy())"
   ]
  },
  {
   "cell_type": "code",
   "execution_count": 28,
   "id": "2015c78a",
   "metadata": {},
   "outputs": [
    {
     "name": "stdout",
     "output_type": "stream",
     "text": [
      "21\n",
      "22\n",
      "-108\n",
      "31\n",
      "-1\n",
      "32\n",
      "34\n",
      "31\n",
      "90\n"
     ]
    }
   ],
   "source": [
    "for sales in tf_dataset.as_numpy_iterator():\n",
    "    print(sales)"
   ]
  },
  {
   "cell_type": "code",
   "execution_count": 29,
   "id": "809ecbfa",
   "metadata": {},
   "outputs": [
    {
     "name": "stdout",
     "output_type": "stream",
     "text": [
      "21\n",
      "22\n",
      "-108\n",
      "31\n"
     ]
    }
   ],
   "source": [
    "for sales in tf_dataset.take(4):\n",
    "    print(sales.numpy())"
   ]
  },
  {
   "cell_type": "code",
   "execution_count": 53,
   "id": "50854777",
   "metadata": {},
   "outputs": [
    {
     "name": "stdout",
     "output_type": "stream",
     "text": [
      "[21, 22, 31, 32, 34, 31, 90]\n"
     ]
    }
   ],
   "source": [
    "tf_dataset = tf_dataset.filter(lambda x:x>0)\n",
    "print([sales for sales in tf_dataset.as_numpy_iterator()])"
   ]
  },
  {
   "cell_type": "code",
   "execution_count": 51,
   "id": "18726c93",
   "metadata": {},
   "outputs": [
    {
     "name": "stdout",
     "output_type": "stream",
     "text": [
      "21\n",
      "22\n",
      "31\n",
      "32\n",
      "34\n",
      "31\n",
      "90\n"
     ]
    }
   ],
   "source": [
    "for sales in tf_dataset.as_numpy_iterator():\n",
    "    print(sales)"
   ]
  },
  {
   "cell_type": "code",
   "execution_count": 54,
   "id": "522f9d12",
   "metadata": {},
   "outputs": [
    {
     "name": "stdout",
     "output_type": "stream",
     "text": [
      "1512\n",
      "1584\n",
      "2232\n",
      "2304\n",
      "2448\n",
      "2232\n",
      "6480\n"
     ]
    }
   ],
   "source": [
    "tf_dataset = tf_dataset.map(lambda x:x*72)        # to convert to our currency\n",
    "for sales in tf_dataset.as_numpy_iterator():\n",
    "    print(sales)"
   ]
  },
  {
   "cell_type": "code",
   "execution_count": 55,
   "id": "9fd649be",
   "metadata": {},
   "outputs": [
    {
     "name": "stdout",
     "output_type": "stream",
     "text": [
      "1584\n",
      "2304\n",
      "2232\n",
      "2448\n",
      "6480\n",
      "2232\n",
      "1512\n"
     ]
    }
   ],
   "source": [
    "tf_dataset = tf_dataset.shuffle(3)   # buffer is 3  [x,y,z] choosing a random value from list\n",
    "for sales in tf_dataset.as_numpy_iterator():\n",
    "    print(sales)"
   ]
  },
  {
   "cell_type": "code",
   "execution_count": 62,
   "id": "42507ab9",
   "metadata": {},
   "outputs": [
    {
     "name": "stdout",
     "output_type": "stream",
     "text": [
      "[1584 2304 2448]\n",
      "[2232 6480 2232]\n",
      "[1512]\n"
     ]
    }
   ],
   "source": [
    "for sales in tf_dataset.batch(3):\n",
    "    print(sales.numpy())"
   ]
  },
  {
   "cell_type": "code",
   "execution_count": 65,
   "id": "ef695b98",
   "metadata": {},
   "outputs": [
    {
     "data": {
      "text/plain": [
       "<_BatchDataset element_spec=TensorSpec(shape=(None,), dtype=tf.int32, name=None)>"
      ]
     },
     "execution_count": 65,
     "metadata": {},
     "output_type": "execute_result"
    }
   ],
   "source": [
    "tf_dataset = tf.data.Dataset.from_tensor_slices(daily_sales_numbers)\n",
    "tf_dataset.filter(lambda x:x>0). map(lambda y:y*72).shuffle(3).batch(3)"
   ]
  },
  {
   "cell_type": "code",
   "execution_count": 68,
   "id": "fa433f67",
   "metadata": {},
   "outputs": [
    {
     "name": "stdout",
     "output_type": "stream",
     "text": [
      "[2232 2304 1584]\n",
      "[2448 1512 2232]\n",
      "[6480]\n"
     ]
    }
   ],
   "source": [
    "tf_dataset = tf.data.Dataset.from_tensor_slices(daily_sales_numbers)\n",
    "tf_dataset = tf_dataset.filter(lambda x:x>0). map(lambda y:y*72).shuffle(3).batch(3)\n",
    "for sales in tf_dataset.as_numpy_iterator():\n",
    "    print(sales)"
   ]
  },
  {
   "cell_type": "code",
   "execution_count": 73,
   "id": "f56731af",
   "metadata": {},
   "outputs": [
    {
     "name": "stdout",
     "output_type": "stream",
     "text": [
      "b'images\\\\cats\\\\download.jpg'\n",
      "b'images\\\\cats\\\\images (2).jpg'\n",
      "b'images\\\\dogs\\\\download (1).jpg'\n",
      "b'images\\\\dogs\\\\download (2).jpg'\n",
      "b'images\\\\cats\\\\images.jpg'\n"
     ]
    }
   ],
   "source": [
    "images_ds = tf.data.Dataset.list_files('images/*/*',shuffle=True)\n",
    "\n",
    "for file in images_ds.take(5):\n",
    "    print(file.numpy())\n",
    "    "
   ]
  },
  {
   "cell_type": "code",
   "execution_count": 74,
   "id": "230304fc",
   "metadata": {},
   "outputs": [],
   "source": [
    "class_names = [\"cat\",\"dog\"]"
   ]
  },
  {
   "cell_type": "code",
   "execution_count": 75,
   "id": "113e5a5d",
   "metadata": {},
   "outputs": [
    {
     "data": {
      "text/plain": [
       "12"
      ]
     },
     "execution_count": 75,
     "metadata": {},
     "output_type": "execute_result"
    }
   ],
   "source": [
    "image_count = len(images_ds)\n",
    "image_count"
   ]
  },
  {
   "cell_type": "code",
   "execution_count": 79,
   "id": "cdc3c2ea",
   "metadata": {},
   "outputs": [],
   "source": [
    "train_size = int(image_count*0.8)\n",
    "\n",
    "train_ds = images_ds.take(train_size)        # take 80% of data for training\n",
    "test_ds  = images_ds.skip(train_size)        # tak2 20% of data for testing"
   ]
  },
  {
   "cell_type": "code",
   "execution_count": 82,
   "id": "19138705",
   "metadata": {},
   "outputs": [
    {
     "data": {
      "text/plain": [
       "3"
      ]
     },
     "execution_count": 82,
     "metadata": {},
     "output_type": "execute_result"
    }
   ],
   "source": [
    "len(test_ds)"
   ]
  },
  {
   "cell_type": "code",
   "execution_count": 81,
   "id": "e66f6690",
   "metadata": {},
   "outputs": [
    {
     "data": {
      "text/plain": [
       "9"
      ]
     },
     "execution_count": 81,
     "metadata": {},
     "output_type": "execute_result"
    }
   ],
   "source": [
    "len(train_ds)"
   ]
  },
  {
   "cell_type": "code",
   "execution_count": 85,
   "id": "2b8106e9",
   "metadata": {},
   "outputs": [
    {
     "data": {
      "text/plain": [
       "'cats'"
      ]
     },
     "execution_count": 85,
     "metadata": {},
     "output_type": "execute_result"
    }
   ],
   "source": [
    "#  retreive the labels\n",
    "\n",
    "s = \"images\\\\cats\\\\images.jpg\"\n",
    "s.split(\"\\\\\")[-2]\n",
    "\n"
   ]
  },
  {
   "cell_type": "code",
   "execution_count": 98,
   "id": "ae9a12e5",
   "metadata": {},
   "outputs": [],
   "source": [
    "def get_label(file_path):\n",
    "    return tf.strings.split(file_path, os.path.sep)[-2]"
   ]
  },
  {
   "cell_type": "code",
   "execution_count": 103,
   "id": "b3f5c240",
   "metadata": {},
   "outputs": [],
   "source": [
    "def process_image(file_path):\n",
    "    label = get_label(file_path)\n",
    "    img = tf.io.read_file(file_path)\n",
    "    img = tf.image.decode_jpeg(img)\n",
    "    img = tf.image.resize(img, [128, 128])\n",
    "    \n",
    "    return img, label"
   ]
  },
  {
   "cell_type": "code",
   "execution_count": 104,
   "id": "02b28c3b",
   "metadata": {
    "collapsed": true
   },
   "outputs": [
    {
     "name": "stdout",
     "output_type": "stream",
     "text": [
      "b'images\\\\dogs\\\\download (2).jpg'\n",
      "b'images\\\\dogs\\\\download.jpg'\n",
      "b'images\\\\cats\\\\download (3).jpg'\n",
      "b'images\\\\dogs\\\\download (1).jpg'\n"
     ]
    }
   ],
   "source": [
    "for t in train_ds.take(4):\n",
    "    print(t.numpy())"
   ]
  },
  {
   "cell_type": "code",
   "execution_count": 105,
   "id": "6ed40239",
   "metadata": {
    "collapsed": true
   },
   "outputs": [
    {
     "name": "stdout",
     "output_type": "stream",
     "text": [
      "tf.Tensor(b'cats', shape=(), dtype=string)\n",
      "tf.Tensor(b'cats', shape=(), dtype=string)\n",
      "tf.Tensor(b'dogs', shape=(), dtype=string)\n",
      "tf.Tensor(b'dogs', shape=(), dtype=string)\n",
      "tf.Tensor(b'cats', shape=(), dtype=string)\n",
      "tf.Tensor(b'cats', shape=(), dtype=string)\n",
      "tf.Tensor(b'cats', shape=(), dtype=string)\n",
      "tf.Tensor(b'cats', shape=(), dtype=string)\n",
      "tf.Tensor(b'dogs', shape=(), dtype=string)\n"
     ]
    }
   ],
   "source": [
    "for i in train_ds.map(get_label):\n",
    "    print(i)"
   ]
  },
  {
   "cell_type": "code",
   "execution_count": 110,
   "id": "17abf270",
   "metadata": {
    "collapsed": true
   },
   "outputs": [
    {
     "name": "stdout",
     "output_type": "stream",
     "text": [
      "image:  tf.Tensor(\n",
      "[[[ 49.366333 117.47757   31.72763 ]\n",
      "  [ 67.194244 121.131744  57.40909 ]\n",
      "  [ 73.60867  113.69461   70.60867 ]\n",
      "  ...\n",
      "  [ 30.699219 109.69922   26.699219]\n",
      "  [ 29.699219 108.69922   25.699219]\n",
      "  [ 29.021515 108.021515  25.021515]]\n",
      "\n",
      " [[ 52.558014 122.193054  39.134277]\n",
      "  [ 54.856506 107.89166   47.575256]\n",
      "  [117.59912  157.68506  116.40381 ]\n",
      "  ...\n",
      "  [ 27.292969 106.29297   23.292969]\n",
      "  [ 26.638397 105.6384    22.638397]\n",
      "  [ 26.195312 105.19531   22.195312]]\n",
      "\n",
      " [[ 58.575073 127.76648   50.31906 ]\n",
      "  [ 69.60727  123.46332   65.375885]\n",
      "  [103.19797  141.31635  101.34607 ]\n",
      "  ...\n",
      "  [ 23.450409 100.67969   19.7984  ]\n",
      "  [ 22.950714  99.984375  18.878906]\n",
      "  [ 22.146332  98.984375  17.957031]]\n",
      "\n",
      " ...\n",
      "\n",
      " [[242.27164  242.27164  242.27164 ]\n",
      "  [241.1211   241.1211   241.1211  ]\n",
      "  [239.35037  239.35037  239.35037 ]\n",
      "  ...\n",
      "  [186.       219.       148.      ]\n",
      "  [185.38281  218.38281  147.38281 ]\n",
      "  [184.46094  217.46094  146.46094 ]]\n",
      "\n",
      " [[241.90234  241.90234  241.90234 ]\n",
      "  [240.55692  240.55692  240.55692 ]\n",
      "  [238.69531  238.69531  238.69531 ]\n",
      "  ...\n",
      "  [186.       219.       150.      ]\n",
      "  [185.38281  218.38281  149.38281 ]\n",
      "  [184.46094  217.46094  148.46094 ]]\n",
      "\n",
      " [[241.       241.       241.      ]\n",
      "  [239.73233  239.73233  239.73233 ]\n",
      "  [237.9961   237.9961   237.9961  ]\n",
      "  ...\n",
      "  [186.       219.       150.      ]\n",
      "  [185.38281  218.38281  149.38281 ]\n",
      "  [184.46094  217.46094  148.46094 ]]], shape=(128, 128, 3), dtype=float32)\n",
      "label:  tf.Tensor(b'dogs', shape=(), dtype=string)\n",
      "image:  tf.Tensor(\n",
      "[[[ 72.9375   120.78906   40.148438]\n",
      "  [ 79.609375 117.115265  43.827133]\n",
      "  [ 77.866486  98.72301   45.976562]\n",
      "  ...\n",
      "  [230.402    241.18715  140.20598 ]\n",
      "  [231.65514  243.25874  162.36118 ]\n",
      "  [242.26009  254.14062  210.44595 ]]\n",
      "\n",
      " [[ 89.678696 139.46385   55.734375]\n",
      "  [ 92.514694 131.74516   55.11737 ]\n",
      "  [ 87.83804  110.68254   54.33098 ]\n",
      "  ...\n",
      "  [233.16016  242.59871  147.83594 ]\n",
      "  [232.01805  242.57274  162.9721  ]\n",
      "  [233.48828  245.84375  198.11719 ]]\n",
      "\n",
      " [[102.83949  155.98793   65.691055]\n",
      "  [102.18149  145.20312   61.979416]\n",
      "  [ 97.28946  122.572464  60.82852 ]\n",
      "  ...\n",
      "  [237.16797  245.22266  159.04257 ]\n",
      "  [232.66481  242.47626  164.87799 ]\n",
      "  [225.07422  237.92578  183.93785 ]]\n",
      "\n",
      " ...\n",
      "\n",
      " [[140.86008  182.26527   93.22266 ]\n",
      "  [155.05754  191.88957  102.166916]\n",
      "  [170.33945  203.59726  112.46835 ]\n",
      "  ...\n",
      "  [141.54297  185.58809   96.33984 ]\n",
      "  [125.04898  176.38206   89.02554 ]\n",
      "  [ 98.94176  157.94176   77.708084]]\n",
      "\n",
      " [[148.3652   187.85838   99.43552 ]\n",
      "  [154.3631   190.89937  101.2753  ]\n",
      "  [164.89633  198.77344  107.334885]\n",
      "  ...\n",
      "  [130.61192  180.32286   88.838486]\n",
      "  [118.27641  172.64267   85.8497  ]\n",
      "  [ 88.947296 146.9473    71.0137  ]]\n",
      "\n",
      " [[161.61165  198.1647   110.46712 ]\n",
      "  [157.94624  193.94624  104.50093 ]\n",
      "  [160.33133  195.33133  103.33133 ]\n",
      "  ...\n",
      "  [119.89348  172.66621   80.4361  ]\n",
      "  [118.23828  174.20511   88.56932 ]\n",
      "  [ 86.13054  143.34538   71.70085 ]]], shape=(128, 128, 3), dtype=float32)\n",
      "label:  tf.Tensor(b'dogs', shape=(), dtype=string)\n",
      "image:  tf.Tensor(\n",
      "[[[ 33.16797   33.932632  29.638641]\n",
      "  [ 34.304688  35.304688  29.63179 ]\n",
      "  [ 38.068207  36.16797   29.951324]\n",
      "  ...\n",
      "  [107.11359  100.11359   74.11359 ]\n",
      "  [107.606674  99.74339   76.33324 ]\n",
      "  [111.42572  105.046814  75.32025 ]]\n",
      "\n",
      " [[ 33.410156  35.32524   33.92578 ]\n",
      "  [ 34.546875  36.42885   33.42885 ]\n",
      "  [ 37.19922   36.546875  32.714844]\n",
      "  ...\n",
      "  [119.61627  112.61627   86.61627 ]\n",
      "  [113.72685  107.59013   83.316696]\n",
      "  [109.10361  102.48251   74.70415 ]]\n",
      "\n",
      " [[ 27.054688  30.778244  32.875   ]\n",
      "  [ 29.980469  31.208237  32.496094]\n",
      "  [ 32.632812  32.84375   32.527344]\n",
      "  ...\n",
      "  [ 92.71994   86.61447   60.61447 ]\n",
      "  [ 99.107254  93.092834  68.8194  ]\n",
      "  [ 94.27104   88.205536  62.75241 ]]\n",
      "\n",
      " ...\n",
      "\n",
      " [[170.35637  173.35637  152.35637 ]\n",
      "  [172.46754  175.46754  154.46754 ]\n",
      "  [175.21094  178.21094  157.21094 ]\n",
      "  ...\n",
      "  [137.9414   140.04688  125.51953 ]\n",
      "  [116.81641  118.921875 104.39453 ]\n",
      "  [102.57152  104.39484   87.608475]]\n",
      "\n",
      " [[175.96875  179.83203  157.10547 ]\n",
      "  [177.86328  181.72656  159.      ]\n",
      "  [181.3789   185.24219  162.51562 ]\n",
      "  ...\n",
      "  [114.13281  117.13281   96.40625 ]\n",
      "  [ 93.00781   96.00781   75.28125 ]\n",
      "  [ 81.470795  84.1768    62.090027]]\n",
      "\n",
      " [[178.6211   182.6211   159.6211  ]\n",
      "  [180.51562  184.51562  161.51562 ]\n",
      "  [184.03125  188.03125  165.03125 ]\n",
      "  ...\n",
      "  [104.43239  105.1902    79.94801 ]\n",
      "  [ 83.071335  83.82915   57.514603]\n",
      "  [ 73.95889   73.47452   48.91893 ]]], shape=(128, 128, 3), dtype=float32)\n",
      "label:  tf.Tensor(b'cats', shape=(), dtype=string)\n"
     ]
    }
   ],
   "source": [
    "train_ds = train_ds.map(process_image)\n",
    "for image, label in train_ds.take(3):\n",
    "    print(\"image: \", image)\n",
    "    print(\"label: \",label)"
   ]
  },
  {
   "cell_type": "code",
   "execution_count": 111,
   "id": "496cef4e",
   "metadata": {},
   "outputs": [],
   "source": [
    "def scale(image, label):\n",
    "    return image/255, label"
   ]
  },
  {
   "cell_type": "code",
   "execution_count": 113,
   "id": "0cda5d86",
   "metadata": {},
   "outputs": [
    {
     "name": "stdout",
     "output_type": "stream",
     "text": [
      "****Image:  [0.00051008 0.00052184 0.0004558 ]\n",
      "****Label:  b'cats'\n",
      "****Image:  [0.00198703 0.00171021 0.00100279]\n",
      "****Label:  b'dogs'\n",
      "****Image:  [0.00312892 0.00240612 0.00157567]\n",
      "****Label:  b'cats'\n",
      "****Image:  [0.00390619 0.00390619 0.00390619]\n",
      "****Label:  b'cats'\n",
      "****Image:  [0.00112168 0.00185758 0.00061743]\n",
      "****Label:  b'dogs'\n"
     ]
    }
   ],
   "source": [
    "train_ds = train_ds.map(scale)\n",
    "for image, label in train_ds.take(5):\n",
    "    print(\"****Image: \", image.numpy()[0][0])\n",
    "    print(\"****Label: \", label.numpy())"
   ]
  },
  {
   "cell_type": "code",
   "execution_count": null,
   "id": "b526b67e",
   "metadata": {},
   "outputs": [],
   "source": []
  }
 ],
 "metadata": {
  "kernelspec": {
   "display_name": "Python 3 (ipykernel)",
   "language": "python",
   "name": "python3"
  },
  "language_info": {
   "codemirror_mode": {
    "name": "ipython",
    "version": 3
   },
   "file_extension": ".py",
   "mimetype": "text/x-python",
   "name": "python",
   "nbconvert_exporter": "python",
   "pygments_lexer": "ipython3",
   "version": "3.11.3"
  }
 },
 "nbformat": 4,
 "nbformat_minor": 5
}
